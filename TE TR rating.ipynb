{
 "cells": [
  {
   "cell_type": "code",
   "execution_count": 5,
   "id": "c00b7653-09db-446f-ab4a-c4afb5cf525d",
   "metadata": {},
   "outputs": [],
   "source": [
    "import pandas as pd\n",
    "import time\n",
    "import os\n",
    "import json\n",
    "from google import genai\n",
    "from google.genai import types\n",
    "from dotenv import load_dotenv"
   ]
  },
  {
   "cell_type": "code",
   "execution_count": 3,
   "id": "195cbb15-075c-410f-97de-b82c87977e34",
   "metadata": {},
   "outputs": [],
   "source": [
    "load_dotenv()\n",
    "client = genai.Client(api_key=os.getenv(\"api_key\"))"
   ]
  },
  {
   "cell_type": "code",
   "execution_count": 44,
   "id": "c17b153a-7737-4457-89aa-b0ddbf6ffb4f",
   "metadata": {},
   "outputs": [],
   "source": [
    "df = pd.read_excel(\"source data/database cbo.xlsx\", sheet_name = 0)"
   ]
  },
  {
   "cell_type": "code",
   "execution_count": null,
   "id": "4bb80206-1ef0-487b-bc02-385392a7e8fd",
   "metadata": {},
   "outputs": [],
   "source": [
    "all_json = []\n",
    "arquivos_com_erro = []\n",
    "\n",
    "pasta = \"json/te_tr\"\n",
    "\n",
    "for nome_arquivo in os.listdir(pasta):\n",
    "    if nome_arquivo.endswith(\".json\"):\n",
    "        caminho_arquivo = os.path.join(pasta, nome_arquivo)\n",
    "        try:\n",
    "            with open(caminho_arquivo, \"r\", encoding=\"utf-8\") as f:\n",
    "                conteudo = f.read().strip()\n",
    "                if not conteudo:\n",
    "                    raise ValueError(\"Arquivo vazio\")\n",
    "                dados = json.loads(conteudo)\n",
    "                if isinstance(dados, list):\n",
    "                    all_json.extend(dados)\n",
    "                else:\n",
    "                    all_json.append(dados)\n",
    "        except Exception as e:\n",
    "            print(f\"Erro no arquivo '{nome_arquivo}': {e}\")\n",
    "            arquivos_com_erro.append(caminho_arquivo)\n",
    "\n",
    "\n",
    "for caminho in arquivos_com_erro:\n",
    "    try:\n",
    "        os.remove(caminho)\n",
    "        print(f\"Arquivo deletado: {os.path.basename(caminho)}\")\n",
    "    except Exception as e:\n",
    "        print(f\"Erro ao deletar {os.path.basename(caminho)}: {e}\")\n",
    "\n",
    "\n",
    "with open(\"json/te_tr.json\", \"w\", encoding=\"utf-8\") as f:\n",
    "    json.dump(all_json, f, ensure_ascii=False, indent=2)"
   ]
  },
  {
   "cell_type": "code",
   "execution_count": 43,
   "id": "933f73e0-a398-483f-a494-fc4c332758fa",
   "metadata": {},
   "outputs": [],
   "source": [
    "with open(\"json/te_tr.json\", \"r\", encoding=\"utf-8\") as f:\n",
    "    data = json.load(f)\n",
    "\n",
    "df = pd.DataFrame(data)\n",
    "\n",
    "df.to_excel(\"results/te_tr.xlsx\", index=False)"
   ]
  }
 ],
 "metadata": {
  "kernelspec": {
   "display_name": "Python 3 (ipykernel)",
   "language": "python",
   "name": "python3"
  },
  "language_info": {
   "codemirror_mode": {
    "name": "ipython",
    "version": 3
   },
   "file_extension": ".py",
   "mimetype": "text/x-python",
   "name": "python",
   "nbconvert_exporter": "python",
   "pygments_lexer": "ipython3",
   "version": "3.12.7"
  }
 },
 "nbformat": 4,
 "nbformat_minor": 5
}
